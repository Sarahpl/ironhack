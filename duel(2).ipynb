{
 "cells": [
  {
   "cell_type": "markdown",
   "metadata": {},
   "source": [
    "# Duel of sorcerers\n",
    "You are witnessing an epic battle between two powerful sorcerers: Gandalf and Saruman. Each sorcerer has 10 spells of variable power in their mind and they are going to throw them one after the other. The winner of the duel will be the one who wins more of those clashes between spells. Spells are represented as a list of 10 integers whose value equals the power of the spell.\n",
    "```\n",
    "gandalf = [10, 11, 13, 30, 22, 11, 10, 33, 22, 22]\n",
    "saruman = [23, 66, 12, 43, 12, 10, 44, 23, 12, 17]\n",
    "```\n",
    "For example:\n",
    "1. The first clash is won by Saruman: 10 against 23, wins 23\n",
    "2. The second clash wins Saruman: 11 against 66, wins 66\n",
    "3. etc.\n",
    "\n",
    "\n",
    "You will create two variables, one for each sorcerer, where the sum of clashes won will be stored. Depending on which variable is greater at the end of the duel, you will show one of the following three results on the screen:\n",
    "* Gandalf wins\n",
    "* Saruman wins\n",
    "* Tie\n",
    "\n",
    "<img src=\"images/content_lightning_bolt_big.jpg\" width=\"400\">"
   ]
  },
  {
   "cell_type": "markdown",
   "metadata": {},
   "source": [
    "## Solution"
   ]
  },
  {
   "cell_type": "code",
   "execution_count": 3,
   "metadata": {},
   "outputs": [],
   "source": [
    "# Assign spell power lists to variables\n",
    "\n",
    "gandalf = [10, 11, 13, 30, 22, 11, 10, 33, 22, 22]\n",
    "saruman = [23, 66, 12, 43, 12, 10, 44, 23, 12, 17]\n"
   ]
  },
  {
   "cell_type": "code",
   "execution_count": 2,
   "metadata": {},
   "outputs": [],
   "source": [
    "# Assign 0 to each variable that stores the victories\n",
    "gandalf_wins = 0\n",
    "saruman_wins = 0"
   ]
  },
  {
   "cell_type": "code",
   "execution_count": 4,
   "metadata": {},
   "outputs": [
    {
     "name": "stdout",
     "output_type": "stream",
     "text": [
      "6\n",
      "4\n"
     ]
    }
   ],
   "source": [
    "# Execution of spell clashes\n",
    "gandalf = [10, 11, 13, 30, 22, 11, 10, 33, 22, 22]\n",
    "saruman = [23, 66, 12, 43, 12, 10, 44, 23, 12, 17]\n",
    "gandalf_wins = 0\n",
    "saruman_wins = 0\n",
    "for i, x in zip (gandalf, saruman):\n",
    "    if i>x:\n",
    "        gandalf_wins +=1\n",
    "    else:\n",
    "        saruman_wins +=1\n",
    "\n",
    "print (gandalf_wins)\n",
    "print (saruman_wins)"
   ]
  },
  {
   "cell_type": "code",
   "execution_count": 5,
   "metadata": {},
   "outputs": [
    {
     "name": "stdout",
     "output_type": "stream",
     "text": [
      "Gandalf wins\n"
     ]
    }
   ],
   "source": [
    "# We check who has won, do not forget the possibility of a draw.\n",
    "# Print the result based on the winner.\n",
    "gandalf = [10, 11, 13, 30, 22, 11, 10, 33, 22, 22]\n",
    "saruman = [23, 66, 12, 43, 12, 10, 44, 23, 12, 17]\n",
    "\n",
    "gandalf_wins = 0\n",
    "saruman_wins = 0\n",
    "for i, x in zip (gandalf, saruman):\n",
    "    if i>x:\n",
    "        gandalf_wins +=1\n",
    "    else:\n",
    "        saruman_wins +=1\n",
    "if gandalf_wins > saruman_wins:\n",
    "    print (\"Gandalf wins\")\n",
    "elif saruman_wins > gandalf_wins:\n",
    "    print (\"Saruman wins\")\n",
    "else:\n",
    "    print (\"Tie\")\n",
    "    "
   ]
  },
  {
   "cell_type": "markdown",
   "metadata": {},
   "source": [
    "## Goals\n",
    "\n",
    "1. Treatment of lists\n",
    "2. Use of **for loop**\n",
    "3. Use of conditional **if-elif-else**\n",
    "4. Use of the functions **range(), len()**\n",
    "5. Print"
   ]
  },
  {
   "cell_type": "markdown",
   "metadata": {},
   "source": [
    "## Bonus\n",
    "\n",
    "1. Spells now have a name and there is a dictionary that relates that name to a power.\n",
    "2. A sorcerer wins if he succeeds in winning 3 spell clashes in a row.\n",
    "3. Average of each of the spell lists.\n",
    "4. Standard deviation of each of the spell lists.\n",
    "\n",
    "```\n",
    "POWER = {\n",
    "    'Fireball': 50, \n",
    "    'Lightning bolt': 40, \n",
    "    'Magic arrow': 10, \n",
    "    'Black Tentacles': 25, \n",
    "    'Contagion': 45\n",
    "}\n",
    "\n",
    "gandalf = ['Fireball', 'Lightning bolt', 'Lightning bolt', 'Magic arrow', 'Fireball', \n",
    "           'Magic arrow', 'Lightning bolt', 'Fireball', 'Fireball', 'Fireball']\n",
    "saruman = ['Contagion', 'Contagion', 'Black Tentacles', 'Fireball', 'Black Tentacles', \n",
    "           'Lightning bolt', 'Magic arrow', 'Contagion', 'Magic arrow', 'Magic arrow']\n",
    "```\n",
    "\n",
    "Good luck!"
   ]
  },
  {
   "cell_type": "code",
   "execution_count": 5,
   "metadata": {},
   "outputs": [],
   "source": [
    "# 1. Spells now have a name and there is a dictionary that relates that name to a power.\n",
    "# variables\n",
    "\n",
    "POWER = {\n",
    "    'Fireball': 50, \n",
    "    'Lightning bolt': 40, \n",
    "    'Magic arrow': 10, \n",
    "    'Black Tentacles': 25, \n",
    "    'Contagion': 45\n",
    "}\n",
    "\n",
    "gandalf = ['Fireball', 'Lightning bolt', 'Lightning bolt', 'Magic arrow', 'Fireball', \n",
    "           'Magic arrow', 'Lightning bolt', 'Fireball', 'Magic arrow', 'Fireball']\n",
    "saruman = ['Contagion', 'Contagion', 'Black Tentacles', 'Fireball', 'Black Tentacles', \n",
    "           'Lightning bolt', 'Magic arrow', 'Contagion', 'Magic arrow', 'Magic arrow']"
   ]
  },
  {
   "cell_type": "code",
   "execution_count": 11,
   "metadata": {},
   "outputs": [
    {
     "name": "stdout",
     "output_type": "stream",
     "text": [
      "Gandalf = [50, 40, 40, 10, 50, 10, 40, 50, 10, 50]\n",
      "Saruman =  [45, 45, 25, 50, 25, 40, 10, 45, 10, 10]\n"
     ]
    }
   ],
   "source": [
    "# Assign spell power lists to variables\n",
    "POWER = {\n",
    "    'Fireball': 50, \n",
    "    'Lightning bolt': 40, \n",
    "    'Magic arrow': 10, \n",
    "    'Black Tentacles': 25, \n",
    "    'Contagion': 45\n",
    "}\n",
    "\n",
    "gandalf = ['Fireball', 'Lightning bolt', 'Lightning bolt', 'Magic arrow', 'Fireball', \n",
    "           'Magic arrow', 'Lightning bolt', 'Fireball', 'Magic arrow', 'Fireball']\n",
    "saruman = ['Contagion', 'Contagion', 'Black Tentacles', 'Fireball', 'Black Tentacles', \n",
    "           'Lightning bolt', 'Magic arrow', 'Contagion', 'Magic arrow', 'Magic arrow']\n",
    "\n",
    "Gandalf = [ ]\n",
    "x=0\n",
    "for x in range (len(gandalf)):          \n",
    "    i = POWER[gandalf[x]]\n",
    "    Gandalf.append(i)\n",
    "print(\"Gandalf =\", Gandalf)\n",
    "    \n",
    "Saruman = [ ]\n",
    "x=0\n",
    "for x in range (len(saruman)):          \n",
    "    i = POWER[saruman[x]]\n",
    "    Saruman.append(i)\n",
    "print(\"Saruman = \",Saruman )\n",
    "    "
   ]
  },
  {
   "cell_type": "code",
   "execution_count": 12,
   "metadata": {},
   "outputs": [
    {
     "name": "stdout",
     "output_type": "stream",
     "text": [
      "['G', 'S', 'G', 'S', 'G', 'S', 'G', 'G', 'N', 'G']\n",
      "No one wins\n"
     ]
    }
   ],
   "source": [
    "# 2. A sorcerer wins if he succeeds in winning 3 spell clashes in a row.\n",
    "\n",
    "\n",
    "# Execution of spell clashes\n",
    "gandalf = [50,40,40,10,50,10,40,50,10,50]\n",
    "saruman = [45,45,25,50,25,40,10,45,10,10]\n",
    "gandalf_wins = 0\n",
    "saruman_wins = 0\n",
    "spell_clashes =[]\n",
    "i = 0\n",
    "j = 0\n",
    "\n",
    "for i,j in zip (gandalf,saruman):\n",
    "\n",
    "    if i>j:\n",
    "        spell_clashes.append (\"G\")\n",
    "    elif i<j:\n",
    "        spell_clashes.append (\"S\")\n",
    "    else:\n",
    "        spell_clashes.append(\"N\")\n",
    "        \n",
    "print (spell_clashes)\n",
    "\n",
    "\n",
    "# check for 3 wins in a row\n",
    "\n",
    "for x in range (len(gandalf)):\n",
    "    if spell_clashes[x] == \"N\":\n",
    "        print (\"No one wins\")\n",
    "        x=x+1\n",
    "    elif spell_clashes[x:x+3] == [\"G\",\"G\",\"G\"]:\n",
    "        print (\"The winner is Gandalf \")\n",
    "        break\n",
    "    elif spell_clashes[x:x+3] == [\"S\",\"S\",\"S\"]:\n",
    "        print (\"The winner is Saruman\")\n",
    "        break\n",
    "    else:\n",
    "        x=x+1\n",
    "\n",
    "# check the winner\n"
   ]
  },
  {
   "cell_type": "code",
   "execution_count": 13,
   "metadata": {},
   "outputs": [
    {
     "name": "stdout",
     "output_type": "stream",
     "text": [
      "Average Gandalf = 35.0\n",
      "Average Saruman = 30.5\n"
     ]
    }
   ],
   "source": [
    "# 3. Average of each of the spell lists.\n",
    "gandalf = [50,40,40,10,50,10,40,50,10,50]\n",
    "saruman = [45,45,25,50,25,40,10,45,10,10]\n",
    "average_Gandalf = sum(gandalf) / len(gandalf)\n",
    "average_Saruman = sum (saruman)/ len (saruman)\n",
    "\n",
    "print(\"Average Gandalf =\", average_Gandalf)\n",
    "print(\"Average Saruman =\", average_Saruman)\n"
   ]
  },
  {
   "cell_type": "code",
   "execution_count": 14,
   "metadata": {},
   "outputs": [
    {
     "name": "stdout",
     "output_type": "stream",
     "text": [
      "Standard Deviation Gandalf =  16.881943016134134\n",
      "Standard Deviation Saruman =  15.56438241627338\n"
     ]
    }
   ],
   "source": [
    "# 4. Standard deviation of each of the spell lists.\n",
    "gandalf = [50,40,40,10,50,10,40,50,10,50]\n",
    "saruman = [45,45,25,50,25,40,10,45,10,10]\n",
    "average_Gandalf = sum(gandalf) / len(gandalf)\n",
    "average_Saruman = sum (saruman)/ len (saruman)\n",
    "\n",
    "stdev = []\n",
    "for x in gandalf:\n",
    "    y = (x - average_Gandalf)**2\n",
    "    stdev.append(y)\n",
    "    stdeviation = (sum(stdev) / len(gandalf))**(0.5)\n",
    "print (\"Standard Deviation Gandalf = \", stdeviation)\n",
    "\n",
    "stdev = []\n",
    "for x in saruman:\n",
    "    y = (x - average_Saruman)**2\n",
    "    stdev.append(y)\n",
    "    stdeviation = (sum(stdev) / len(saruman))**(0.5)\n",
    "print (\"Standard Deviation Saruman = \", stdeviation)\n"
   ]
  },
  {
   "cell_type": "code",
   "execution_count": null,
   "metadata": {},
   "outputs": [],
   "source": []
  }
 ],
 "metadata": {
  "kernelspec": {
   "display_name": "Python 3",
   "language": "python",
   "name": "python3"
  },
  "language_info": {
   "codemirror_mode": {
    "name": "ipython",
    "version": 3
   },
   "file_extension": ".py",
   "mimetype": "text/x-python",
   "name": "python",
   "nbconvert_exporter": "python",
   "pygments_lexer": "ipython3",
   "version": "3.7.3"
  }
 },
 "nbformat": 4,
 "nbformat_minor": 2
}
